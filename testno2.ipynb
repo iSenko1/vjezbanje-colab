{
  "nbformat": 4,
  "nbformat_minor": 0,
  "metadata": {
    "colab": {
      "provenance": []
    },
    "kernelspec": {
      "name": "python3",
      "display_name": "Python 3"
    },
    "language_info": {
      "name": "python"
    },
    "accelerator": "GPU"
  },
  "cells": [
    {
      "cell_type": "markdown",
      "source": [
        "# 2. zadatak"
      ],
      "metadata": {
        "id": "M6pmDy64y-B5"
      }
    },
    {
      "cell_type": "code",
      "execution_count": null,
      "metadata": {
        "id": "19lb-TgZy6-J"
      },
      "outputs": [],
      "source": [
        "import tensorflow as tf\n",
        "from tensorflow import keras"
      ]
    },
    {
      "cell_type": "code",
      "source": [
        "(X_train, y_train), (X_test, y_test) = keras.datasets.cifar100.load_data(label_mode=\"fine\")"
      ],
      "metadata": {
        "id": "_CjBxfKJzoYY"
      },
      "execution_count": null,
      "outputs": []
    },
    {
      "cell_type": "code",
      "source": [
        "y_test = keras.utils.to_categorical(y_test, 100)\n",
        "y_train = keras.utils.to_categorical(y_train, 100)"
      ],
      "metadata": {
        "id": "AhTPg15D0bfl"
      },
      "execution_count": null,
      "outputs": []
    },
    {
      "cell_type": "code",
      "source": [
        "X_train = X_train / 255\n",
        "X_test = X_test / 255"
      ],
      "metadata": {
        "id": "HPs8-4hw0B5U"
      },
      "execution_count": null,
      "outputs": []
    },
    {
      "cell_type": "code",
      "source": [
        "X_valid = X_train[:8000]\n",
        "X_train = X_train[8000:]\n",
        "\n",
        "y_valid = y_train[:8000]\n",
        "y_train = y_train[8000:]"
      ],
      "metadata": {
        "id": "uV7Qko-szzNw"
      },
      "execution_count": null,
      "outputs": []
    },
    {
      "cell_type": "code",
      "source": [],
      "metadata": {
        "id": "PLuW30En4noF"
      },
      "execution_count": null,
      "outputs": []
    },
    {
      "cell_type": "code",
      "source": [
        "model = keras.models.Sequential()"
      ],
      "metadata": {
        "id": "cPxGh2KW1AJs"
      },
      "execution_count": null,
      "outputs": []
    },
    {
      "cell_type": "code",
      "source": [
        "model.add(keras.layers.Conv2D(32, (3,3), activation='relu', padding='same', input_shape=(32,32,3)))"
      ],
      "metadata": {
        "id": "e5K6crVQ1ICk"
      },
      "execution_count": null,
      "outputs": []
    },
    {
      "cell_type": "code",
      "source": [
        "model.add(keras.layers.MaxPool2D(2,2))"
      ],
      "metadata": {
        "id": "5O9YP4Um1RzD"
      },
      "execution_count": null,
      "outputs": []
    },
    {
      "cell_type": "code",
      "source": [
        "model.add(keras.layers.Dropout(0.3))"
      ],
      "metadata": {
        "id": "hvXuK7v11Y2r"
      },
      "execution_count": null,
      "outputs": []
    },
    {
      "cell_type": "code",
      "source": [
        "model.add(keras.layers.Conv2D(256, (3,3), activation='relu', padding='same'))"
      ],
      "metadata": {
        "id": "ETBlm5RQ1c9s"
      },
      "execution_count": null,
      "outputs": []
    },
    {
      "cell_type": "code",
      "source": [
        "model.add(keras.layers.MaxPool2D(2,2))"
      ],
      "metadata": {
        "id": "SGdcYa8a1kAb"
      },
      "execution_count": null,
      "outputs": []
    },
    {
      "cell_type": "code",
      "source": [
        "model.add(keras.layers.Dropout(0.2))"
      ],
      "metadata": {
        "id": "3i8UdrC61ni0"
      },
      "execution_count": null,
      "outputs": []
    },
    {
      "cell_type": "code",
      "source": [
        "model.add(keras.layers.Dense(512, activation='relu'))"
      ],
      "metadata": {
        "id": "0sO3Rt5H1r0r"
      },
      "execution_count": null,
      "outputs": []
    },
    {
      "cell_type": "code",
      "source": [
        "model.add(keras.layers.Dropout(0.5))"
      ],
      "metadata": {
        "id": "N-xtzDFg1w0r"
      },
      "execution_count": null,
      "outputs": []
    },
    {
      "cell_type": "code",
      "source": [
        "model.add(keras.layers.Flatten())"
      ],
      "metadata": {
        "id": "QKIEB0T96Qv9"
      },
      "execution_count": null,
      "outputs": []
    },
    {
      "cell_type": "code",
      "source": [
        "model.add(keras.layers.Dense(100, activation='softmax'))"
      ],
      "metadata": {
        "id": "hwmygbwU10nj"
      },
      "execution_count": null,
      "outputs": []
    },
    {
      "cell_type": "code",
      "source": [
        "model.summary()"
      ],
      "metadata": {
        "colab": {
          "base_uri": "https://localhost:8080/"
        },
        "id": "5BLeC9Di15yj",
        "outputId": "0f52cc7f-ca7e-48c6-b0ba-416e409eb152"
      },
      "execution_count": null,
      "outputs": [
        {
          "output_type": "stream",
          "name": "stdout",
          "text": [
            "Model: \"sequential_3\"\n",
            "_________________________________________________________________\n",
            " Layer (type)                Output Shape              Param #   \n",
            "=================================================================\n",
            " conv2d_6 (Conv2D)           (None, 32, 32, 32)        896       \n",
            "                                                                 \n",
            " max_pooling2d_6 (MaxPooling  (None, 16, 16, 32)       0         \n",
            " 2D)                                                             \n",
            "                                                                 \n",
            " dropout_9 (Dropout)         (None, 16, 16, 32)        0         \n",
            "                                                                 \n",
            " conv2d_7 (Conv2D)           (None, 16, 16, 256)       73984     \n",
            "                                                                 \n",
            " max_pooling2d_7 (MaxPooling  (None, 8, 8, 256)        0         \n",
            " 2D)                                                             \n",
            "                                                                 \n",
            " dropout_10 (Dropout)        (None, 8, 8, 256)         0         \n",
            "                                                                 \n",
            " dense_6 (Dense)             (None, 8, 8, 512)         131584    \n",
            "                                                                 \n",
            " dropout_11 (Dropout)        (None, 8, 8, 512)         0         \n",
            "                                                                 \n",
            " flatten (Flatten)           (None, 32768)             0         \n",
            "                                                                 \n",
            " dense_7 (Dense)             (None, 100)               3276900   \n",
            "                                                                 \n",
            "=================================================================\n",
            "Total params: 3,483,364\n",
            "Trainable params: 3,483,364\n",
            "Non-trainable params: 0\n",
            "_________________________________________________________________\n"
          ]
        }
      ]
    },
    {
      "cell_type": "code",
      "source": [
        "model.compile(optimizer='adam',\n",
        "              loss='categorical_crossentropy',\n",
        "              metrics=['accuracy'])"
      ],
      "metadata": {
        "id": "Id5APjou2WoQ"
      },
      "execution_count": null,
      "outputs": []
    },
    {
      "cell_type": "code",
      "source": [
        "povijest = model.fit(X_train, y_train, epochs=8, validation_data=(X_valid, y_valid))"
      ],
      "metadata": {
        "colab": {
          "base_uri": "https://localhost:8080/"
        },
        "id": "9BKkjXnH2i_E",
        "outputId": "79606bbc-44fa-429a-b4c5-4cb423606ce6"
      },
      "execution_count": null,
      "outputs": [
        {
          "output_type": "stream",
          "name": "stdout",
          "text": [
            "Epoch 1/8\n",
            "1313/1313 [==============================] - 21s 8ms/step - loss: 3.6321 - accuracy: 0.1597 - val_loss: 3.1080 - val_accuracy: 0.2545\n",
            "Epoch 2/8\n",
            "1313/1313 [==============================] - 9s 7ms/step - loss: 2.9214 - accuracy: 0.2843 - val_loss: 2.7831 - val_accuracy: 0.3169\n",
            "Epoch 3/8\n",
            "1313/1313 [==============================] - 9s 7ms/step - loss: 2.6034 - accuracy: 0.3482 - val_loss: 2.6608 - val_accuracy: 0.3361\n",
            "Epoch 4/8\n",
            "1313/1313 [==============================] - 9s 7ms/step - loss: 2.3690 - accuracy: 0.3988 - val_loss: 2.5865 - val_accuracy: 0.3562\n",
            "Epoch 5/8\n",
            "1313/1313 [==============================] - 9s 7ms/step - loss: 2.1704 - accuracy: 0.4394 - val_loss: 2.4714 - val_accuracy: 0.3799\n",
            "Epoch 6/8\n",
            "1313/1313 [==============================] - 9s 7ms/step - loss: 1.9993 - accuracy: 0.4747 - val_loss: 2.5157 - val_accuracy: 0.3790\n",
            "Epoch 7/8\n",
            "1313/1313 [==============================] - 9s 7ms/step - loss: 1.8539 - accuracy: 0.5058 - val_loss: 2.4261 - val_accuracy: 0.3994\n",
            "Epoch 8/8\n",
            "1313/1313 [==============================] - 9s 7ms/step - loss: 1.7168 - accuracy: 0.5349 - val_loss: 2.4342 - val_accuracy: 0.4070\n"
          ]
        }
      ]
    },
    {
      "cell_type": "code",
      "source": [
        "model.evaluate(X_test, y_test)"
      ],
      "metadata": {
        "colab": {
          "base_uri": "https://localhost:8080/"
        },
        "id": "VqevLu__5dIC",
        "outputId": "6a79717c-ddf0-4305-b08c-05f6894094fd"
      },
      "execution_count": null,
      "outputs": [
        {
          "output_type": "stream",
          "name": "stdout",
          "text": [
            "313/313 [==============================] - 2s 5ms/step - loss: 2.4155 - accuracy: 0.4091\n"
          ]
        },
        {
          "output_type": "execute_result",
          "data": {
            "text/plain": [
              "[2.4155116081237793, 0.4090999960899353]"
            ]
          },
          "metadata": {},
          "execution_count": 108
        }
      ]
    },
    {
      "cell_type": "code",
      "source": [
        "import matplotlib.pyplot as plt\n",
        "pd.DataFrame(povijest.history).plot(figsize=(8,5))\n",
        "plt.xlabel('Epochs')\n",
        "plt.grid()\n",
        "plt.show()"
      ],
      "metadata": {
        "colab": {
          "base_uri": "https://localhost:8080/",
          "height": 334
        },
        "id": "kRoV_K9l6ohv",
        "outputId": "b718169c-d0e5-43de-db4c-3e8b97055324"
      },
      "execution_count": null,
      "outputs": [
        {
          "output_type": "display_data",
          "data": {
            "image/png": "[encoded data removed]",
            "text/plain": [
              "<Figure size 576x360 with 1 Axes>"
            ]
          },
          "metadata": {
            "needs_background": "light"
          }
        }
      ]
    },
    {
      "cell_type": "code",
      "source": [
        "import numpy as np\n",
        "y_pred = model.predict(X_test)\n",
        "sortirano = np.argsort(y_pred)"
      ],
      "metadata": {
        "id": "vliv9pSW6lCo"
      },
      "execution_count": null,
      "outputs": []
    },
    {
      "cell_type": "code",
      "source": [
        "for i in range(8):\n",
        "  print(\"Predviđeno: {}\".format(np.argmax(y_pred[i])))"
      ],
      "metadata": {
        "colab": {
          "base_uri": "https://localhost:8080/"
        },
        "id": "08yBMAOA6b5g",
        "outputId": "673bbaae-7c16-4ad9-ed74-097916754ffe"
      },
      "execution_count": null,
      "outputs": [
        {
          "output_type": "stream",
          "name": "stdout",
          "text": [
            "Predviđeno: 30\n",
            "Predviđeno: 66\n",
            "Predviđeno: 4\n",
            "Predviđeno: 55\n",
            "Predviđeno: 71\n",
            "Predviđeno: 79\n",
            "Predviđeno: 65\n",
            "Predviđeno: 99\n"
          ]
        }
      ]
    }
  ]
}